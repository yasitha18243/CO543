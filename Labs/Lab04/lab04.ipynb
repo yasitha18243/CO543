{
 "cells": [
  {
   "cell_type": "code",
   "execution_count": 1,
   "id": "8fc712c9",
   "metadata": {},
   "outputs": [],
   "source": [
    "import cv2\n",
    "import numpy as np"
   ]
  },
  {
   "cell_type": "code",
   "execution_count": 8,
   "id": "034a245b",
   "metadata": {},
   "outputs": [],
   "source": [
    "img = cv2.imread('car.jpg', 0)\n",
    "fil_img = cv2.Laplacian(img, cv2.CV_16S, 3)\n",
    "\n",
    "cv2.imwrite('laplace_img.jpg', fil_img)\n",
    "cv2.imshow('image',fil_img)\n",
    "cv2.waitKey(0) # Wait indefinitely for a keystroke\n",
    "cv2.destroyAllWindows()"
   ]
  },
  {
   "cell_type": "code",
   "execution_count": 2,
   "id": "f3d7ef2b",
   "metadata": {},
   "outputs": [],
   "source": [
    "#Task 1\n",
    "#1) Use of Second Derivative for Image Enhancement: The Laplacian\n",
    "\n",
    "#convolution funtion\n",
    "def con2D(img, kernel, padding=1):\n",
    "    #flipping the kernal because we getting the convolution not correlation\n",
    "    kernel = np.flipud(np.fliplr(kernel))\n",
    "\n",
    "    # extracting the dimensions from input and kernal\n",
    "    Kernal_rows = kernel.shape[0]\n",
    "    Kernal_cols = kernel.shape[1]\n",
    "    Img_rows = img.shape[0]\n",
    "    Img_cols = img.shape[1]\n",
    "\n",
    "    # calculating the shape of convolved output\n",
    "    output_rows = ((Img_rows - Kernal_rows + 2 * padding) ) + 1\n",
    "    output_cols = ((Img_cols - Kernal_cols + 2 * padding) ) + 1\n",
    "    output = np.zeros((output_rows, output_cols),  np.uint8)\n",
    "\n",
    "  \n",
    "    # creating matrix with zeros with padding \n",
    "    padded_img = np.zeros((Img_rows + padding*2, Img_cols + padding*2)) \n",
    "    \n",
    "    #updating the matrix with the given image\n",
    "    padded_img[int(padding):int(-1 * padding), int(padding):int(-1 * padding)] = img  \n",
    "   \n",
    "\n",
    "    # Iterate through image\n",
    "    for y in range(Img_cols):            \n",
    "        for x in range(Img_rows):\n",
    "            \n",
    "            #calculating the value of kernal   \n",
    "            k = (kernel *  padded_img[x: x +  Kernal_rows, y: y + Kernal_cols]).sum()    \n",
    "    \n",
    "            #if the k value is minus value, the value is replaced with zero(images doesn't have (-) pixel values)\n",
    "            #if k value is greater than 255, then it is replaced with 255\n",
    "            if k >= 255:\n",
    "                output[x,y] = 255\n",
    "                \n",
    "            elif k <= 0:\n",
    "                output[x,y] = 0\n",
    "                \n",
    "            else:\n",
    "                output[x,y] = k\n",
    "            \n",
    "\n",
    "    return output"
   ]
  },
  {
   "cell_type": "code",
   "execution_count": 6,
   "id": "eda8d78a",
   "metadata": {},
   "outputs": [],
   "source": [
    "#● Write a program to implement “The Laplacian” and note the effects on the given image.\n",
    "def laplacian(img):\n",
    "    \n",
    "    #mask for laplacian second derivative enhancement\n",
    "    laplacian_mask = np.array([[0,1,0], [1,-4,1], [0,1,0]])\n",
    "    \n",
    "    #getting the convolution\n",
    "    new_img = con2D(img, laplacian_mask, padding = 1)\n",
    "    \n",
    "    return new_img"
   ]
  },
  {
   "cell_type": "code",
   "execution_count": 17,
   "id": "7c66965f",
   "metadata": {},
   "outputs": [
    {
     "name": "stdout",
     "output_type": "stream",
     "text": [
      "[[0 0 0 ... 0 0 0]\n",
      " [0 0 0 ... 0 0 0]\n",
      " [0 0 2 ... 0 0 0]\n",
      " ...\n",
      " [0 0 2 ... 0 0 0]\n",
      " [0 0 0 ... 0 2 0]\n",
      " [0 0 0 ... 0 0 0]]\n",
      "1.0\n"
     ]
    },
    {
     "data": {
      "text/plain": [
       "True"
      ]
     },
     "execution_count": 17,
     "metadata": {},
     "output_type": "execute_result"
    }
   ],
   "source": [
    "laplacian_filter = laplacian(img)\n",
    "print(laplacian_filter)\n",
    "cv2.imwrite('car_gray.jpg', img)\n",
    "cv2.imwrite('laplacian_car.jpg',laplacian_filter)\n",
    "cv2.imwrite('sharpened_car.jpg',cv2.subtract(img, laplacian_filter))\n",
    "k = np.min(laplacian_filter)\n",
    "\n",
    "laplacian_filter = laplacian_filter - k\n",
    "\n",
    "print(255.0/np.max(laplacian_filter))\n",
    "laplacian_filter = laplacian_filter * (255.0/np.max(laplacian_filter))\n",
    "cv2.imwrite('ad.jpg',laplacian_filter )\n"
   ]
  },
  {
   "cell_type": "code",
   "execution_count": 120,
   "id": "c231f49c",
   "metadata": {},
   "outputs": [],
   "source": [
    "#● Write a program to implement “Robert Cross Gradient Operator” and observe the hanges in the image.\n",
    "\n",
    "def RCG(img):\n",
    "    \n",
    "    #kernal to do roberts cross gradient operation\n",
    "    roberts_cross_main_diagonal = np.array( [[ 0, 0, 0 ],\n",
    "                                             [ 0, -1, 0 ],\n",
    "                                             [ 0, 0, 1 ]] )\n",
    "\n",
    "    roberts_cross_left_diagonal = np.array( [[ 0, 0, 0 ],\n",
    "                                             [ 0, 0, -1 ],\n",
    "                                             [ 0, 1, 0 ]] )\n",
    "    \n",
    "    #getting the convolutions separately\n",
    "    con_main_diagonal = con2D(img, roberts_cross_main_diagonal, padding=1)\n",
    "    con_left_diagonal = con2D(img, roberts_cross_left_diagonal, padding=1)\n",
    "    \n",
    "    #adding the abosolute values from the convolved results\n",
    "    output = cv2.add(np.absolute(con_main_diagonal), np.absolute(con_left_diagonal)) \n",
    " \n",
    "    \n",
    "    return output"
   ]
  },
  {
   "cell_type": "code",
   "execution_count": 13,
   "id": "1b13eafb",
   "metadata": {},
   "outputs": [
    {
     "data": {
      "text/plain": [
       "True"
      ]
     },
     "execution_count": 13,
     "metadata": {},
     "output_type": "execute_result"
    }
   ],
   "source": [
    "robert_filter = RCG(img)\n",
    "cv2.imwrite('robert_filter_own1.jpg',robert_filter)\n"
   ]
  },
  {
   "cell_type": "code",
   "execution_count": 60,
   "id": "2a1b39e5",
   "metadata": {},
   "outputs": [],
   "source": [
    "#● Write a program to implement “Sobel Operators” and observe the changes on the image\n",
    "def Sobel(img):\n",
    "    \n",
    "    #kernals for sobal operation\n",
    "    sobel_x = np.array( [[-1,-2, -1],\n",
    "                         [ 0, 0, 0 ],\n",
    "                         [ 1, 2, 1 ]] )\n",
    "    \n",
    "    sobel_y = np.array( [[ -1, 0, 1 ],\n",
    "                         [ -2, 0, 2 ],\n",
    "                         [ -1, 0, 1 ]] )\n",
    "     \n",
    "    #getting the convolution\n",
    "    con_x = con2D(img, sobel_x, padding=1)\n",
    "    con_y = con2D(img, sobel_y, padding=1)\n",
    "    \n",
    "    #adding the absolute values from the convolved results\n",
    "    output = cv2.add(np.absolute(con_x), np.absolute(con_y))\n",
    "   \n",
    "    \n",
    "    return output"
   ]
  },
  {
   "cell_type": "code",
   "execution_count": 61,
   "id": "83ff2140",
   "metadata": {},
   "outputs": [
    {
     "data": {
      "text/plain": [
       "True"
      ]
     },
     "execution_count": 61,
     "metadata": {},
     "output_type": "execute_result"
    }
   ],
   "source": [
    "sobel_filter = Sobel(img)\n",
    "cv2.imwrite('sobel_filter_own12.jpg',sobel_filter)\n"
   ]
  },
  {
   "cell_type": "code",
   "execution_count": 7,
   "id": "8964572e",
   "metadata": {},
   "outputs": [
    {
     "data": {
      "text/plain": [
       "True"
      ]
     },
     "execution_count": 7,
     "metadata": {},
     "output_type": "execute_result"
    }
   ],
   "source": [
    "img2 = cv2.imread('eagle.jpg', 0)\n",
    "cv2.imwrite('eagle_gray.jpg',img2)\n",
    "img_laplacian = laplacian(img2)\n",
    "\n",
    "cv2.imwrite('laplacian_eagle.jpg',img_laplacian)\n",
    "\n",
    "img_sharp = cv2.subtract(img2, img_laplacian)\n",
    "\n",
    "cv2.imwrite('shapned_eagle.jpg',img_sharp)"
   ]
  },
  {
   "cell_type": "code",
   "execution_count": 26,
   "id": "27abaa96",
   "metadata": {},
   "outputs": [],
   "source": [
    "#Averaging funtion for Task 2\n",
    "\n",
    "def fil_average(img, mask_size):\n",
    "    mask = np.ones([mask_size, mask_size], dtype = int)\n",
    "    mask = mask / (mask_size ** 2)\n",
    "    \n",
    "    output = con2D(img,  mask, padding=2)\n",
    "    \n",
    "    return output"
   ]
  },
  {
   "cell_type": "code",
   "execution_count": 87,
   "id": "ff0d932a",
   "metadata": {},
   "outputs": [
    {
     "data": {
      "text/plain": [
       "True"
      ]
     },
     "execution_count": 87,
     "metadata": {},
     "output_type": "execute_result"
    }
   ],
   "source": [
    "sobel_eagle = Sobel(img2)\n",
    "smooth_sobel = fil_average(sobel_eagle, 5)\n",
    "cv2.imwrite('smoothsobel_eagle.jpg',smooth_sobel)\n",
    "cv2.imwrite('sobel_eagle.jpg',sobel_eagle)"
   ]
  },
  {
   "cell_type": "code",
   "execution_count": 90,
   "id": "ed99f0c5",
   "metadata": {},
   "outputs": [
    {
     "name": "stdout",
     "output_type": "stream",
     "text": [
      "[[0 0 0 ... 0 0 0]\n",
      " [0 0 1 ... 0 1 0]\n",
      " [0 1 0 ... 1 0 0]\n",
      " ...\n",
      " [0 0 0 ... 0 2 0]\n",
      " [0 0 0 ... 0 0 0]\n",
      " [0 0 0 ... 0 0 0]]\n"
     ]
    }
   ],
   "source": [
    "dst = cv2.bitwise_and(img_laplacian, smooth_sobel)\n",
    "cv2.imwrite('maskedwithsobel.jpg',dst)\n",
    "print(dst)"
   ]
  },
  {
   "cell_type": "code",
   "execution_count": 94,
   "id": "04d15e57",
   "metadata": {},
   "outputs": [
    {
     "name": "stdout",
     "output_type": "stream",
     "text": [
      "[[188 189 189 ... 185 185 185]\n",
      " [189 190 191 ... 186 187 186]\n",
      " [190 191 191 ... 188 188 188]\n",
      " ...\n",
      " [100 101 101 ...  89  90  88]\n",
      " [101 101 101 ...  89  89  88]\n",
      " [102 101 100 ...  89  89  88]]\n"
     ]
    }
   ],
   "source": [
    "add_img2 = cv2.add(dst, img2)\n",
    "cv2.imwrite('added_new.jpg',add_img2)\n",
    "print(add_img2)"
   ]
  },
  {
   "cell_type": "code",
   "execution_count": 95,
   "id": "6fce9e5b",
   "metadata": {},
   "outputs": [
    {
     "data": {
      "text/plain": [
       "True"
      ]
     },
     "execution_count": 95,
     "metadata": {},
     "output_type": "execute_result"
    }
   ],
   "source": [
    "add_img = cv2.subtract(img2, dst)\n",
    "cv2.imwrite('added.jpg',add_img)"
   ]
  },
  {
   "cell_type": "code",
   "execution_count": 75,
   "id": "1d19462e",
   "metadata": {},
   "outputs": [
    {
     "data": {
      "text/plain": [
       "True"
      ]
     },
     "execution_count": 75,
     "metadata": {},
     "output_type": "execute_result"
    }
   ],
   "source": [
    "sobel_car = Sobel(img)\n",
    "smooth_sobel_car = fil_average(sobel_car, 5)\n",
    "cv2.imwrite('smoothsobel_car.jpg',smooth_sobel_car)\n",
    "cv2.imwrite('sobel_car.jpg',sobel_car)"
   ]
  },
  {
   "cell_type": "code",
   "execution_count": 83,
   "id": "f59fcbb2",
   "metadata": {},
   "outputs": [
    {
     "data": {
      "text/plain": [
       "True"
      ]
     },
     "execution_count": 83,
     "metadata": {},
     "output_type": "execute_result"
    }
   ],
   "source": [
    "dst10 = cv2.bitwise_and(laplacian_filter, smooth_sobel_car)\n",
    "cv2.imwrite('multiplt_car.jpg',dst10)"
   ]
  },
  {
   "cell_type": "code",
   "execution_count": 86,
   "id": "ce4b85d9",
   "metadata": {},
   "outputs": [
    {
     "data": {
      "text/plain": [
       "True"
      ]
     },
     "execution_count": 86,
     "metadata": {},
     "output_type": "execute_result"
    }
   ],
   "source": [
    "add_img23 = cv2.add(img, dst10)\n",
    "cv2.imwrite('added_new_car.jpg',add_img23)\n"
   ]
  },
  {
   "cell_type": "code",
   "execution_count": 104,
   "id": "8a09d4f4",
   "metadata": {},
   "outputs": [],
   "source": [
    "#funtion to do the power law transformation\n",
    "def powerTrans(I, G):\n",
    "    \n",
    "    rows = I.shape[0]\n",
    "    cols = I.shape[1]\n",
    "    \n",
    "    gamma_corrected_img = np.array(255*(I / 255) ** G, dtype = 'uint8')\n",
    "    \n",
    "    return gamma_corrected_img"
   ]
  },
  {
   "cell_type": "code",
   "execution_count": 121,
   "id": "afbf80a4",
   "metadata": {},
   "outputs": [
    {
     "name": "stdout",
     "output_type": "stream",
     "text": [
      "2.2) laplacian filtered eagle image is created\n",
      "\n",
      "\n",
      "2.3) Sharpened image is created by subtracting laplace image and original image\n",
      "\n",
      "\n",
      "2.4) Sobel gradient eagle image is created\n",
      "\n",
      "\n",
      "2.5) Smoothed sobel eagle image is created\n",
      "\n",
      "\n",
      "2.6) Masked eagle image is created\n",
      "\n",
      "\n",
      "2.7) Subtracted eagle image is created\n",
      "\n",
      "\n",
      "2.8) Power transformed final eagle image is created\n",
      "\n",
      "\n"
     ]
    }
   ],
   "source": [
    "def main():\n",
    "    img1 = cv2.imread('car.jpg', 0)\n",
    "    \n",
    "    #Task 1\n",
    "    #1) Use of Second Derivative for Image Enhancement: The Laplacian\n",
    "    #● Write a program to implement “The Laplacian” and note the effects on the given image\n",
    "    \n",
    "    laplacian_filter = laplacian(img1)\n",
    "    cv2.imwrite('laplacian_car.jpg',laplacian_filter)\n",
    "    \n",
    "    #2) Use of First Derivative for Image Enhancement: The Gradient\n",
    "    #● Write a program to implement “Robert Cross Gradient Operator” and observe the changes in the image.\n",
    "    \n",
    "    robert_filter = RCG(img1)\n",
    "    cv2.imwrite('robert_cross_gradient_car.jpg',robert_filter)\n",
    "    \n",
    "    #● Write a program to implement “Sobel Operators” and observe the changes on the image.\n",
    "    \n",
    "    sobel_car = Sobel(img1)\n",
    "    cv2.imwrite('sobel_car.jpg',sobel_car)\n",
    "    \n",
    "    #Task 2\n",
    "    #1. Read a given image.\n",
    "    img = cv2.imread('eagle.jpg', 0)\n",
    "    \n",
    "    #2. Take the Laplacian of the image using the Second Derivative.\n",
    "    \n",
    "    laplacian_filter = laplacian(img)\n",
    "    cv2.imwrite('2_2.jpg',laplacian_filter)\n",
    "    print('2.2) laplacian filtered eagle image is created')\n",
    "    print('\\n')\n",
    "    \n",
    "    #3. Sharpen image by adding original image and laplacian image.\n",
    "    #since the value of the middle cell of the mask is minus we have to subtract the laplace image from original image\n",
    "    \n",
    "    sharpened_img = cv2.subtract(img, laplacian_filter)\n",
    "    cv2.imwrite('2_3.jpg', sharpened_img)\n",
    "    print('2.3) Sharpened image is created by subtracting laplace image and original image')\n",
    "    print('\\n')\n",
    "    \n",
    "    #4. Take the Sobel gradient of the image using the First Derivative.\n",
    "    sobel_img = Sobel(img)\n",
    "    cv2.imwrite('2_4.jpg',sobel_img)\n",
    "    print('2.4) Sobel gradient eagle image is created')\n",
    "    print('\\n')\n",
    "    \n",
    "    #5. Smooth Sobel image using 5× 5averaging filter.\n",
    "    smooth_sobel_img = fil_average(sobel_img, 5)\n",
    "    cv2.imwrite('2_5.jpg', smooth_sobel_img)\n",
    "    print('2.5) Smoothed sobel eagle image is created')\n",
    "    print('\\n')\n",
    "    \n",
    "    #6. Mask the laplacian image using smooth Sobel image.\n",
    "    masked_img = cv2.bitwise_and(smooth_sobel_img, laplacian_filter)\n",
    "    cv2.imwrite('2_6.jpg',masked_img)\n",
    "    print('2.6) Masked eagle image is created')\n",
    "    print('\\n')\n",
    "    \n",
    "    #7. Add product image with the original image.\n",
    "    #Because of the laplacian mask in this also subtraction should be done\n",
    "    \n",
    "    added_img = cv2.subtract(img, masked_img)\n",
    "    cv2.imwrite('2_7.jpg', added_img)\n",
    "    print('2.7) Subtracted eagle image is created')\n",
    "    print('\\n')\n",
    "    \n",
    "    #8. For better result apply power_law transformation\n",
    "    final = powerTrans(added_img, 0.6)\n",
    "    cv2.imwrite('2_8.jpg', final)\n",
    "    print('2.8) Power transformed final eagle image is created')\n",
    "    print('\\n')\n",
    "    \n",
    "\n",
    "if __name__ == \"__main__\":\n",
    "    main()\n",
    "    "
   ]
  },
  {
   "cell_type": "code",
   "execution_count": null,
   "id": "ca054a7f",
   "metadata": {},
   "outputs": [],
   "source": []
  }
 ],
 "metadata": {
  "kernelspec": {
   "display_name": "Python 3 (ipykernel)",
   "language": "python",
   "name": "python3"
  },
  "language_info": {
   "codemirror_mode": {
    "name": "ipython",
    "version": 3
   },
   "file_extension": ".py",
   "mimetype": "text/x-python",
   "name": "python",
   "nbconvert_exporter": "python",
   "pygments_lexer": "ipython3",
   "version": "3.7.4"
  }
 },
 "nbformat": 4,
 "nbformat_minor": 5
}
