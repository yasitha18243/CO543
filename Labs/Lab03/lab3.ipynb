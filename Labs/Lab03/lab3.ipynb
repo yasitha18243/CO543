{
 "cells": [
  {
   "cell_type": "code",
   "execution_count": 3,
   "id": "c5edd530",
   "metadata": {},
   "outputs": [],
   "source": [
    "import cv2\n",
    "import numpy as np"
   ]
  },
  {
   "cell_type": "code",
   "execution_count": 10,
   "id": "b5dc36cd",
   "metadata": {},
   "outputs": [],
   "source": [
    "#1. Use the following inputs to write your own​ ​2D convolution function. Verify your\n",
    "    #implementation with ​OpenCV ​cv2.filter2D()​ ​function\n",
    "    \n",
    "#convolution function\n",
    "# (-) values are replaced with 0 in the output image\n",
    "def con2D(img, kernel, padding=1):\n",
    "    #flipping the kernal because we getting the convolution not correlation\n",
    "    kernel = np.flipud(np.fliplr(kernel))\n",
    "\n",
    "    # extracting the dimensions from input and kernal\n",
    "    Kernal_rows = kernel.shape[0]\n",
    "    Kernal_cols = kernel.shape[1]\n",
    "    Img_rows = img.shape[0]\n",
    "    Img_cols = img.shape[1]\n",
    "\n",
    "    # calculating the shape of convolved output\n",
    "    output_rows = ((Img_rows - Kernal_rows + 2 * padding) ) + 1\n",
    "    output_cols = ((Img_cols - Kernal_cols + 2 * padding) ) + 1\n",
    "    output = np.zeros((output_rows, output_cols))\n",
    "\n",
    "  \n",
    "    # creating matrix with zeros with padding \n",
    "    padded_img = np.zeros((Img_rows + padding*2, Img_cols + padding*2)) \n",
    "    \n",
    "    #updating the matrix with the given image\n",
    "    padded_img[int(padding):int(-1 * padding), int(padding):int(-1 * padding)] = img  \n",
    "   \n",
    "\n",
    "    # Iterate through image\n",
    "    for y in range(Img_cols):            \n",
    "        for x in range(Img_rows):\n",
    "            \n",
    "            #calculating the value of kernal   \n",
    "            k = (kernel *  padded_img[x: x +  Kernal_rows, y: y +Kernal_cols]).sum()    \n",
    "            \n",
    "            #if the k value is minus value, the value is replaced with zero(images doesn't have (-) pixel values)\n",
    "            if k > 0:\n",
    "                output[x,y] = k\n",
    "            else:\n",
    "                output[x,y] = 0                       \n",
    "\n",
    "    return output"
   ]
  },
  {
   "cell_type": "code",
   "execution_count": 4,
   "id": "a9d287ec",
   "metadata": {},
   "outputs": [
    {
     "data": {
      "text/plain": [
       "array([[-1, -1, -1],\n",
       "       [ 0,  0,  0],\n",
       "       [ 1,  1,  1]])"
      ]
     },
     "execution_count": 4,
     "metadata": {},
     "output_type": "execute_result"
    }
   ],
   "source": [
    "Y=np.array([[-1,-1,-1], [0,0,0], [1,1,1]])\n",
    "Y"
   ]
  },
  {
   "cell_type": "code",
   "execution_count": 5,
   "id": "81429b5a",
   "metadata": {},
   "outputs": [
    {
     "data": {
      "text/plain": [
       "array([[10., 10., 10., 10., 10., 10., 10., 10.],\n",
       "       [10., 10., 10., 10., 10., 10., 10., 10.],\n",
       "       [10., 10., 10., 10., 10., 10., 10., 10.],\n",
       "       [10., 10., 10., 10., 10., 10., 10., 10.],\n",
       "       [10., 10., 10., 10., 10., 10., 10., 10.],\n",
       "       [10., 10., 10., 10., 10., 10., 10., 10.],\n",
       "       [10., 10., 10., 10., 10., 10., 10., 10.],\n",
       "       [10., 10., 10., 10., 10., 10., 10., 10.]])"
      ]
     },
     "execution_count": 5,
     "metadata": {},
     "output_type": "execute_result"
    }
   ],
   "source": [
    "X = np.ones((8,8))*10\n",
    "X"
   ]
  },
  {
   "cell_type": "code",
   "execution_count": 6,
   "id": "c28edb91",
   "metadata": {},
   "outputs": [
    {
     "name": "stdout",
     "output_type": "stream",
     "text": [
      "[[-20. -30. -30. -30. -30. -30. -30. -20.]\n",
      " [  0.   0.   0.   0.   0.   0.   0.   0.]\n",
      " [  0.   0.   0.   0.   0.   0.   0.   0.]\n",
      " [  0.   0.   0.   0.   0.   0.   0.   0.]\n",
      " [  0.   0.   0.   0.   0.   0.   0.   0.]\n",
      " [  0.   0.   0.   0.   0.   0.   0.   0.]\n",
      " [  0.   0.   0.   0.   0.   0.   0.   0.]\n",
      " [ 20.  30.  30.  30.  30.  30.  30.  20.]]\n"
     ]
    }
   ],
   "source": [
    "y0 = np.flipud(np.fliplr(Y))\n",
    "print(cv2.filter2D(X,-1,y0,borderType=cv2.BORDER_CONSTANT))\n"
   ]
  },
  {
   "cell_type": "code",
   "execution_count": 14,
   "id": "c5eef865",
   "metadata": {},
   "outputs": [
    {
     "name": "stdout",
     "output_type": "stream",
     "text": [
      "[[ 0.  0.  0.  0.  0.  0.  0.  0.]\n",
      " [ 0.  0.  0.  0.  0.  0.  0.  0.]\n",
      " [ 0.  0.  0.  0.  0.  0.  0.  0.]\n",
      " [ 0.  0.  0.  0.  0.  0.  0.  0.]\n",
      " [ 0.  0.  0.  0.  0.  0.  0.  0.]\n",
      " [ 0.  0.  0.  0.  0.  0.  0.  0.]\n",
      " [ 0.  0.  0.  0.  0.  0.  0.  0.]\n",
      " [20. 30. 30. 30. 30. 30. 30. 20.]]\n"
     ]
    }
   ],
   "source": [
    "print(con2D(X, Y, padding=1))"
   ]
  },
  {
   "cell_type": "code",
   "execution_count": 15,
   "id": "a7e0c41d",
   "metadata": {},
   "outputs": [],
   "source": [
    "img = cv2.imread('spunifnoisy.jpg', 0)\n",
    "bilateral_IMG = cv2.bilateralFilter(img, 5, 200, 200, borderType=cv2.BORDER_CONSTANT)\n",
    "\n",
    "cv2.imshow('bilateral', bilateral_IMG)\n",
    "cv2.waitKey(0)\n",
    "cv2.destroyAllWindows()"
   ]
  },
  {
   "cell_type": "code",
   "execution_count": 16,
   "id": "7577e97d",
   "metadata": {},
   "outputs": [],
   "source": [
    "#2. Bilateral,​ ​Gaussian and Median Filtering\n",
    "#Bilateral filtering funtion\n",
    "\n",
    "#this function claculates gaussian values for x value according to the sigma value\n",
    "def gauss(x,sig):\n",
    "    return (1.0/(2*np.pi*(sig**2)))*np.exp(-(x**2)/(2*(sig**2)))\n",
    "\n",
    "#bilateral filtering funtion\n",
    "def bilateral_fil(img,sigma_i, sigma_s):\n",
    "    \n",
    "    #getting the dimentions of the image\n",
    "    img_rows = img.shape[0]\n",
    "    img_cols = img.shape[1]\n",
    "    output_image = np.zeros([img_rows, img_cols], dtype= 'uint8')\n",
    "    \n",
    "    mask_diameter = 5 # mask 5 x 5 \n",
    "    \n",
    "    for row in range(img_rows):\n",
    "        for col in range(img_cols):\n",
    "            \n",
    "            #normalization constant\n",
    "            C = 0\n",
    "            #this will hold the value to add to the output image for rounding\n",
    "            fil_image = 0\n",
    "            \n",
    "            for x in range(mask_diameter):\n",
    "                for y in range(mask_diameter):\n",
    "                    #getting index values according to the diameter of the mask\n",
    "                    mx =row - (mask_diameter/2 - x)\n",
    "                    my =col - (mask_diameter/2 - y)\n",
    "                    \n",
    "                    #checking whether the boundaries are exceeding\n",
    "                    if mx >= img_rows:\n",
    "                        mx = mx - img_rows\n",
    "                    if my >= img_cols:\n",
    "                        my = my - img_cols\n",
    "                        \n",
    "                    #calculating the guassian value for intensity\n",
    "                    g_i= gauss(img[int(mx)][int(my)] - img[row][col], sigma_i)\n",
    "                    \n",
    "                    #calculating the gaussian value for spatial distance of pixels\n",
    "                    g_s= gauss(np.sqrt(np.abs((mx-row)**2-(my-col)**2)), sigma_s)\n",
    "                    \n",
    "                    #getting weight according to the mask\n",
    "                    wp = g_i * g_s\n",
    "                    \n",
    "                    #calculating total pixel value to add to the new image for position row,col\n",
    "                    fil_image = (fil_image) + (img[int(mx)][int(my)] * wp)\n",
    "                    \n",
    "                    #calculating total value of weights to get the normalization constant\n",
    "                    C = C + wp\n",
    "                    \n",
    "            #calculating the weighted average of nearby pixels\n",
    "            fil_image = fil_image // C\n",
    "            \n",
    "            #adding the new pixel value after the filtering\n",
    "            output_image[row][col] = int(np.round(fil_image))\n",
    "            \n",
    "    return output_image\n",
    "\n"
   ]
  },
  {
   "cell_type": "code",
   "execution_count": 17,
   "id": "640f78f0",
   "metadata": {},
   "outputs": [],
   "source": [
    "image = cv2.imread(\"spunifnoisy.jpg\",0)\n",
    "new_img = cv2.GaussianBlur(image, (5,5),0, borderType=cv2.BORDER_CONSTANT)\n",
    "cv2.imshow('openCV_Gaussian_filter', new_img)\n",
    "cv2.waitKey(0)\n",
    "cv2.destroyAllWindows()"
   ]
  },
  {
   "cell_type": "code",
   "execution_count": 18,
   "id": "5e6ba0b7",
   "metadata": {},
   "outputs": [],
   "source": [
    "#A Gaussian filter with mask size 5 × 5 appropriate values of σ .\n",
    "def Gaussian_fil(img, sigma): \n",
    "    fil_size = 5 # 5x5 mask is used\n",
    "    \n",
    "    #creating the np array to store calculated gaussian kernal\n",
    "    gaussian_fil_kernal = np.zeros([fil_size, fil_size], np.float32)\n",
    "    \n",
    "    #getting the middle floor value according to the size of gaussian kernal\n",
    "    i = fil_size//2\n",
    "    j = fil_size//2\n",
    "    \n",
    "    for x in range(-i, i+1):\n",
    "        for y in range(-j, j+1):\n",
    "            \n",
    "            #calculating the gaussian function \n",
    "            k1 = 2*np.pi*(sigma**2)\n",
    "            k2 = np.exp(-(x**2 + y**2)/(2* sigma**2))\n",
    "            gaussian_fil_kernal[x+i, y+j] = (1/k1)*k2\n",
    "            \n",
    "    #since we have to get convolution with original image, kernal is flipped horizontally and vertically\n",
    "    #because cv2.filter2D() function give correlation, so we have to flip the kernal before give to that funtion\n",
    "    y0 = np.flipud(np.fliplr(gaussian_fil_kernal))\n",
    "    \n",
    "    #getting the filtered image by getting convolution\n",
    "    return  cv2.filter2D(img,-1,y0,borderType=cv2.BORDER_CONSTANT)               "
   ]
  },
  {
   "cell_type": "code",
   "execution_count": 19,
   "id": "d25bf96e",
   "metadata": {},
   "outputs": [],
   "source": [
    "img = cv2.imread(\"spunifnoisy.jpg\",0)\n",
    "new_img_gauss = Gaussian_fil(img, 1)\n",
    "cv2.imshow('gaussian filtered image from own funtion', new_img_gauss)\n",
    "cv2.waitKey(0)\n",
    "cv2.destroyAllWindows()"
   ]
  },
  {
   "cell_type": "code",
   "execution_count": 20,
   "id": "1b547789",
   "metadata": {},
   "outputs": [],
   "source": [
    "#A median filter of appropriate window size\n",
    "def Median_fil(img, filter_size):\n",
    "    \n",
    "    #getting the sizes of image\n",
    "    img_rows = img.shape[0]\n",
    "    img_cols = img.shape[1]\n",
    "    \n",
    "    #dictionary to store the list of pixel values to get the median\n",
    "    list_median = []\n",
    "    \n",
    "    \n",
    "    output_image = np.zeros([img_rows, img_cols], dtype= 'uint8')\n",
    "    index = filter_size // 2\n",
    "    \n",
    "    for i in range(img_rows):\n",
    "        for j in range(img_cols):\n",
    "            for k in range(filter_size):\n",
    "                \n",
    "                #checking the mask is in the corner and if it is in corner then 0 are appended\n",
    "                if (i + k - index > img_rows - 1) or (i + k - index < 0):\n",
    "                    for m in range(filter_size):\n",
    "                        list_median.append(0)\n",
    "                else:\n",
    "                    #if the currnt cell of mask is outside the image then 0 is appended\n",
    "                    if (j + index > img_cols - 1) or (j + k - index < 0):\n",
    "                        list_median.append(0)\n",
    "                    else:\n",
    "                        #the pixel values of the mask which are inside the image are appended to the dictionary\n",
    "                        for l in range(filter_size):\n",
    "                            list_median.append(img[i + k - index][j + l - index])\n",
    "            \n",
    "            #sorting the extracted pixel from the mask to get the median value \n",
    "            list_median.sort()\n",
    "            \n",
    "            #setting the median value to the output image\n",
    "            output_image[i][j] = list_median[len(list_median) // 2]\n",
    "            \n",
    "            #making empty the image to get the next filtered pixel value\n",
    "            list_median = []\n",
    "    return output_image\n",
    "\n"
   ]
  },
  {
   "cell_type": "code",
   "execution_count": 21,
   "id": "4f41bca8",
   "metadata": {},
   "outputs": [],
   "source": [
    "img = cv2.imread(\"spunifnoisy.jpg\",0)\n",
    "new_img_gauss = Median_fil(img, 3)\n",
    "cv2.imshow('gaussian filtered image from own funtion', new_img_gauss)\n",
    "cv2.waitKey(0)\n",
    "cv2.destroyAllWindows()"
   ]
  },
  {
   "cell_type": "code",
   "execution_count": 22,
   "id": "77b4d8ae",
   "metadata": {},
   "outputs": [
    {
     "name": "stdout",
     "output_type": "stream",
     "text": [
      "[[ 0.  0.  0.  0.  0.  0.  0.  0.]\n",
      " [ 0.  0.  0.  0.  0.  0.  0.  0.]\n",
      " [ 0.  0.  0.  0.  0.  0.  0.  0.]\n",
      " [ 0.  0.  0.  0.  0.  0.  0.  0.]\n",
      " [ 0.  0.  0.  0.  0.  0.  0.  0.]\n",
      " [ 0.  0.  0.  0.  0.  0.  0.  0.]\n",
      " [ 0.  0.  0.  0.  0.  0.  0.  0.]\n",
      " [20. 30. 30. 30. 30. 30. 30. 20.]]\n",
      "\n",
      "\n",
      "\n",
      "[[-20. -30. -30. -30. -30. -30. -30. -20.]\n",
      " [  0.   0.   0.   0.   0.   0.   0.   0.]\n",
      " [  0.   0.   0.   0.   0.   0.   0.   0.]\n",
      " [  0.   0.   0.   0.   0.   0.   0.   0.]\n",
      " [  0.   0.   0.   0.   0.   0.   0.   0.]\n",
      " [  0.   0.   0.   0.   0.   0.   0.   0.]\n",
      " [  0.   0.   0.   0.   0.   0.   0.   0.]\n",
      " [ 20.  30.  30.  30.  30.  30.  30.  20.]]\n"
     ]
    },
    {
     "name": "stderr",
     "output_type": "stream",
     "text": [
      "c:\\users\\asus\\appdata\\local\\programs\\python\\python37-32\\lib\\site-packages\\ipykernel_launcher.py:39: RuntimeWarning: overflow encountered in ubyte_scalars\n"
     ]
    },
    {
     "name": "stdout",
     "output_type": "stream",
     "text": [
      "Image from bilateralfilter own function is saved\n",
      "Image from OpenCV is saved\n",
      "\n",
      "\n",
      "Image from Gaussin own funtion is saved\n",
      "Image from Gaussian openCV funtion is saved\n",
      "\n",
      "\n",
      "Image from median own funtion is saved\n",
      "Image from median openCV funtion is saved\n"
     ]
    }
   ],
   "source": [
    "def main():\n",
    "    img = cv2.imread(\"spunifnoisy.jpg\",0)\n",
    "    \n",
    "    #1. Use the following inputs to write your own​ ​2D convolution function. Verify your\n",
    "    #implementation with ​OpenCV ​cv2.filter2D()​ ​function\n",
    "    \n",
    "    X = np.ones((8,8))*10\n",
    "    Y=np.array([[-1,-1,-1], [0,0,0], [1,1,1]])\n",
    "    \n",
    "    #my own funtion\n",
    "    # minus values are removed from the output(Because images don't have - value pixels)\n",
    "    print(con2D(X, Y, padding=1))\n",
    "    print('\\n\\n')\n",
    "    \n",
    "    #inbuild cv2 funtion\n",
    "    #in this cv2.filter2D gives correlation, not convolution. Therefore kernal is flipped horizontally and vertically\n",
    "    #before adding to the funtion\n",
    "    y0 = np.flipud(np.fliplr(Y))\n",
    "    print(cv2.filter2D(X,-1,y0,borderType=cv2.BORDER_CONSTANT))\n",
    "    \n",
    "    \n",
    "    #2. Bilateral,​ ​Gaussian and Median Filtering\n",
    "    \n",
    "    #*********Bilateral filtering funtion - mask size 5 × 5 *****************\n",
    "    \n",
    "    #own funtion\n",
    "    image_own = bilateral_fil(img, 200.0, 200.0)\n",
    "    cv2.imwrite(\"own_bilateralfilter.png\", image_own)\n",
    "    print(\"Image from bilateralfilter own function is saved\")\n",
    "    \n",
    "    #openCV funtion for bilateralfilter\n",
    "    fil_img_OpenCV = cv2.bilateralFilter(img, 5, 200.0, 200.0, borderType=cv2.BORDER_CONSTANT)\n",
    "    cv2.imwrite(\"OpenCV_bilateralFilter_image.png\", fil_img_OpenCV)\n",
    "    print(\"Image from OpenCV is saved\")\n",
    "    print('\\n')\n",
    "    \n",
    "    \n",
    "    #********* Gaussian filter funtion - mask size 5 × 5*****************\n",
    "    \n",
    "    #own funtion\n",
    "    new_img_gauss = Gaussian_fil(img, 1)\n",
    "    cv2.imwrite(\"own_Gaussian_filter_image.png\", new_img_gauss)\n",
    "    print(\"Image from Gaussin own funtion is saved\")\n",
    "    \n",
    "    \n",
    "    #openCV funtion\n",
    "    new_img = cv2.GaussianBlur(img, (5,5),0, borderType=cv2.BORDER_CONSTANT)\n",
    "    cv2.imwrite(\"OpenCV_Gaussianfilter_image.png\", new_img)\n",
    "    print(\"Image from Gaussian openCV funtion is saved\")\n",
    "    print('\\n')\n",
    "        \n",
    "        \n",
    "    \n",
    "    #********* Median filter funtion*****************\n",
    "    \n",
    "    #own funtion\n",
    "    median_img = Median_fil(img, 5)\n",
    "    cv2.imwrite(\"own_median_filter_image.png\",  median_img)\n",
    "    print(\"Image from median own funtion is saved\")\n",
    "    \n",
    "    \n",
    "    #openCV funtion\n",
    "    median_img2 = cv2.medianBlur(img, 5)\n",
    "    cv2.imwrite(\"OpenCV_median_filter_image.png\", median_img2)\n",
    "    print(\"Image from median openCV funtion is saved\")\n",
    "    \n",
    "if __name__ == \"__main__\":\n",
    "    main()"
   ]
  },
  {
   "cell_type": "code",
   "execution_count": null,
   "id": "700c56eb",
   "metadata": {},
   "outputs": [],
   "source": []
  }
 ],
 "metadata": {
  "kernelspec": {
   "display_name": "Python 3 (ipykernel)",
   "language": "python",
   "name": "python3"
  },
  "language_info": {
   "codemirror_mode": {
    "name": "ipython",
    "version": 3
   },
   "file_extension": ".py",
   "mimetype": "text/x-python",
   "name": "python",
   "nbconvert_exporter": "python",
   "pygments_lexer": "ipython3",
   "version": "3.7.4"
  }
 },
 "nbformat": 4,
 "nbformat_minor": 5
}
