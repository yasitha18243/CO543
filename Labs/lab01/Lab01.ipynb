{
 "cells": [
  {
   "cell_type": "code",
   "execution_count": 19,
   "id": "e449335c",
   "metadata": {},
   "outputs": [],
   "source": [
    "import cv2\n",
    "import numpy as np\n",
    "import math"
   ]
  },
  {
   "cell_type": "code",
   "execution_count": 20,
   "id": "a0c4fa38",
   "metadata": {},
   "outputs": [],
   "source": [
    "img = cv2.imread('car.jpg')\n",
    "cv2.imshow('image', img)\n",
    "cv2.waitKey(0)\n",
    "cv2.destroyAllWindows() "
   ]
  },
  {
   "cell_type": "code",
   "execution_count": 3,
   "id": "1308bac6",
   "metadata": {},
   "outputs": [
    {
     "data": {
      "text/plain": [
       "True"
      ]
     },
     "execution_count": 3,
     "metadata": {},
     "output_type": "execute_result"
    }
   ],
   "source": [
    "cv2.imwrite('saveBack.png',img)"
   ]
  },
  {
   "cell_type": "code",
   "execution_count": 4,
   "id": "10e06e31",
   "metadata": {},
   "outputs": [
    {
     "name": "stdout",
     "output_type": "stream",
     "text": [
      "2764800\n"
     ]
    }
   ],
   "source": [
    "print(img.size) "
   ]
  },
  {
   "cell_type": "code",
   "execution_count": 60,
   "id": "4c06b7d0",
   "metadata": {},
   "outputs": [
    {
     "name": "stdout",
     "output_type": "stream",
     "text": [
      "1280\n"
     ]
    }
   ],
   "source": [
    "print(img.shape[1])"
   ]
  },
  {
   "cell_type": "code",
   "execution_count": 5,
   "id": "d500b434",
   "metadata": {},
   "outputs": [
    {
     "name": "stdout",
     "output_type": "stream",
     "text": [
      "uint8\n"
     ]
    }
   ],
   "source": [
    "print(img.dtype)"
   ]
  },
  {
   "cell_type": "code",
   "execution_count": 3,
   "id": "daeadd25",
   "metadata": {},
   "outputs": [],
   "source": [
    "img_gray=cv2.cvtColor(img,cv2.COLOR_RGB2GRAY)\n",
    "cv2.imshow('gray image', img_gray)\n",
    "cv2.waitKey(0)\n",
    "cv2.destroyAllWindows() "
   ]
  },
  {
   "cell_type": "code",
   "execution_count": 47,
   "id": "fba104c9",
   "metadata": {},
   "outputs": [],
   "source": [
    "resized_image = cv2.resize(cv2.imread('car.jpg', 0), (100, 50)) \n",
    "cv2.imshow('image1', resized_image)\n",
    "cv2.waitKey(0)\n",
    "cv2.destroyAllWindows() "
   ]
  },
  {
   "cell_type": "code",
   "execution_count": 49,
   "id": "f4c60346",
   "metadata": {},
   "outputs": [],
   "source": [
    "resized_image = cv2.resize(img, (0, 0), fx=0.5, fy=0.5) \n",
    "cv2.imshow('image2', img)\n",
    "cv2.waitKey(0)\n",
    "cv2.destroyAllWindows() "
   ]
  },
  {
   "cell_type": "code",
   "execution_count": 50,
   "id": "3d580718",
   "metadata": {},
   "outputs": [],
   "source": [
    "resized_image = cv2.resize(img, (0, 0), fx=0.5, fy=0.5,\n",
    "interpolation=cv2.INTER_NEAREST)\n",
    "cv2.imshow('image3', img)\n",
    "cv2.waitKey(0)\n",
    "cv2.destroyAllWindows() "
   ]
  },
  {
   "cell_type": "code",
   "execution_count": 9,
   "id": "1034bb36",
   "metadata": {},
   "outputs": [
    {
     "name": "stdout",
     "output_type": "stream",
     "text": [
      "(640.0, 360.0)\n"
     ]
    }
   ],
   "source": [
    "#rotation\n",
    "(h, w) = img.shape[:2]\n",
    "center = (w / 2, h / 2)\n",
    "print(center)\n",
    "\n",
    "#calculating the rotation matrix of the image with 180 degree angle\n",
    "M = cv2.getRotationMatrix2D(center, 180, 1.0)\n",
    "\n",
    "#actual rotation\n",
    "rotated = cv2.warpAffine(img, M, (w, h))\n",
    "cv2.imshow('image_rotated', rotated)\n",
    "cv2.waitKey(0)\n",
    "cv2.destroyAllWindows() "
   ]
  },
  {
   "cell_type": "code",
   "execution_count": 7,
   "id": "7b62ef68",
   "metadata": {},
   "outputs": [],
   "source": [
    "#Cropping the image\n",
    "cropped_image = img[0:700, 150:330]\n",
    "cv2.imshow('image', cropped_image)\n",
    "cv2.waitKey(0)\n",
    "cv2.destroyAllWindows() \n"
   ]
  },
  {
   "cell_type": "code",
   "execution_count": 17,
   "id": "62bddbae",
   "metadata": {},
   "outputs": [],
   "source": [
    "#inverted image\n",
    "image_invert = cv2.bitwise_not(img)\n",
    "cv2.imshow('inverted image', image_invert)\n",
    "cv2.waitKey(0)\n",
    "cv2.destroyAllWindows()"
   ]
  },
  {
   "cell_type": "code",
   "execution_count": 3,
   "id": "4967e4ba",
   "metadata": {},
   "outputs": [],
   "source": [
    "#flipping the image\n",
    "flipped_image = cv2.flip(img, 4)\n",
    "cv2.imshow('flipped_image', flipped_image)\n",
    "cv2.waitKey(0)\n",
    "cv2.destroyAllWindows()"
   ]
  },
  {
   "cell_type": "code",
   "execution_count": 41,
   "id": "1f1a81b3",
   "metadata": {},
   "outputs": [],
   "source": [
    "def imcomplement(I):\n",
    "    I = (255-I) #reducing the all pixel value from maximum pixel value 255\n",
    "    image_invert = I\n",
    "    cv2.imshow('inverted image', image_invert)\n",
    "    cv2.waitKey(0)\n",
    "    cv2.destroyAllWindows()"
   ]
  },
  {
   "cell_type": "code",
   "execution_count": null,
   "id": "ea7e9d0f",
   "metadata": {},
   "outputs": [],
   "source": [
    "I = cv2.imread('car.jpg', 0)\n",
    "imcomplement(I)"
   ]
  },
  {
   "cell_type": "code",
   "execution_count": 39,
   "id": "fa3f536f",
   "metadata": {},
   "outputs": [],
   "source": [
    "def flipud(I):\n",
    "    flipped_img = np.zeros([I.shape[0], I.shape[1]], np.uint8) #two dimentional np array to store pixel values of flipped image\n",
    "   \n",
    "    for i in range(I.shape[0]):\n",
    "\n",
    "        flipped_img[i,:]=I[I.shape[0]-i-1,:]    #flipping the image by starting from first row to swap with last row and so on\n",
    "        \n",
    "    \n",
    "    cv2.imshow('flipped_image_X_axis', flipped_img)\n",
    "    cv2.waitKey(0)\n",
    "    cv2.destroyAllWindows()"
   ]
  },
  {
   "cell_type": "code",
   "execution_count": 40,
   "id": "0fea57cb",
   "metadata": {},
   "outputs": [],
   "source": [
    "I = cv2.imread('car.jpg', 0)\n",
    "flipud(I)"
   ]
  },
  {
   "cell_type": "code",
   "execution_count": 25,
   "id": "0057657c",
   "metadata": {},
   "outputs": [],
   "source": [
    "def fliplr(I):\n",
    "    flipped_img = np.zeros([I.shape[0], I.shape[1]], np.uint8) #two dimentional np array to store pixel values of flipped image\n",
    "    for i in range(I.shape[1]):\n",
    "\n",
    "        flipped_img[:,i]=I[:,I.shape[1]-i-1]  #flipping the image by starting from first column to swap with last column and so on\n",
    "        \n",
    "    \n",
    "    cv2.imshow('flipped_image_Y_axis', flipped_img)\n",
    "    cv2.waitKey(0)\n",
    "    cv2.destroyAllWindows()"
   ]
  },
  {
   "cell_type": "code",
   "execution_count": 32,
   "id": "dd5bb5dd",
   "metadata": {},
   "outputs": [],
   "source": [
    "I = cv2.imread('gecco.jpg', 0)\n",
    "fliplr(I)"
   ]
  },
  {
   "cell_type": "code",
   "execution_count": 33,
   "id": "be0bca4e",
   "metadata": {},
   "outputs": [],
   "source": [
    "def imresize(I, X, Y):\n",
    "    #X is number of columns of new resized image which means width\n",
    "    #Y is number of rows of new resized image which means height\n",
    "    new_cols = X\n",
    "    new_rows = Y\n",
    "    resized_img = np.zeros([ new_rows,new_cols ], np.uint8) #numpy array to store new image pixel values\n",
    "    source_rows = I.shape[0]\n",
    "    source_cols = I.shape[1]\n",
    "    \n",
    "    row_ratio = new_rows/source_rows\n",
    "    col_ratio = new_cols/source_cols\n",
    "   \n",
    "    #changing pixel value column by column\n",
    "    for x in range(0, new_rows):  \n",
    "        for y in range(0, new_cols):\n",
    "            \n",
    "            #interplation formulas to determine nearest neighbour pixel loaction for given x,y pixel loacation of new image\n",
    "            source_X = math.floor(x/row_ratio)\n",
    "            source_Y = math.floor(y/col_ratio)\n",
    "            \n",
    "            #updating the resuling image pixels with source image pixels according to nearest neighbhour interpolation\n",
    "            #x is row index, y is column index same for source_X and source_Y\n",
    "            resized_img[x,y] = I[source_X, source_Y]\n",
    "            \n",
    "    cv2.imshow('resized_image',  resized_img)\n",
    "    cv2.waitKey(0)\n",
    "    cv2.destroyAllWindows()"
   ]
  },
  {
   "cell_type": "code",
   "execution_count": 34,
   "id": "9ca409b0",
   "metadata": {},
   "outputs": [],
   "source": [
    "I = cv2.imread('Einstein.jpg', 0)\n",
    "imresize2(I, 1000, 500)"
   ]
  },
  {
   "cell_type": "code",
   "execution_count": null,
   "id": "0ac21e96",
   "metadata": {},
   "outputs": [],
   "source": []
  }
 ],
 "metadata": {
  "kernelspec": {
   "display_name": "Python 3 (ipykernel)",
   "language": "python",
   "name": "python3"
  },
  "language_info": {
   "codemirror_mode": {
    "name": "ipython",
    "version": 3
   },
   "file_extension": ".py",
   "mimetype": "text/x-python",
   "name": "python",
   "nbconvert_exporter": "python",
   "pygments_lexer": "ipython3",
   "version": "3.7.4"
  }
 },
 "nbformat": 4,
 "nbformat_minor": 5
}
